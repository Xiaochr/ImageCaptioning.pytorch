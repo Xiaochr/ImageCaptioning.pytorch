{
 "cells": [
  {
   "cell_type": "code",
   "execution_count": null,
   "metadata": {},
   "outputs": [],
   "source": [
    "!pip install diffusers\n",
    "!pip install transformers scipy ftfy\n",
    "!pip install \"ipywidgets>=7,<8\"\n",
    "!pip install accelerate"
   ]
  },
  {
   "cell_type": "code",
   "execution_count": null,
   "metadata": {},
   "outputs": [],
   "source": [
    "from huggingface_hub import notebook_login\n",
    "\n",
    "notebook_login()"
   ]
  },
  {
   "cell_type": "code",
   "execution_count": null,
   "metadata": {},
   "outputs": [],
   "source": [
    "import torch\n",
    "from diffusers import StableDiffusionPipeline\n",
    "\n",
    "# make sure you're logged in with `huggingface-cli login`\n",
    "pipe = StableDiffusionPipeline.from_pretrained(\"CompVis/stable-diffusion-v1-4\", revision=\"fp16\", torch_dtype=torch.float16, use_auth_token=True)\n",
    "\n",
    "pipe = pipe.to(\"cuda\")"
   ]
  },
  {
   "cell_type": "code",
   "execution_count": null,
   "metadata": {},
   "outputs": [],
   "source": [
    "from torch import autocast\n",
    "from PIL import Image\n",
    "import warnings\n",
    "warnings.filterwarnings(\"error\")\n",
    "\n",
    "generator = torch.Generator(\"cuda\")\n",
    "\n",
    "prompt = \"A flock of white birds flying over small boats. \"\n",
    "\n",
    "while True:\n",
    "  with autocast(\"cuda\"):\n",
    "    image = pipe(prompt, generator=generator)[0][0]\n",
    "    black_img = Image.new('RGB', image.size, (0, 0, 0))\n",
    "    if image != black_img:\n",
    "      break\n",
    "\n",
    "# display image\n",
    "image"
   ]
  },
  {
   "cell_type": "code",
   "execution_count": null,
   "metadata": {},
   "outputs": [],
   "source": []
  }
 ],
 "metadata": {
  "kernelspec": {
   "display_name": "Python 3",
   "language": "python",
   "name": "python3"
  },
  "language_info": {
   "name": "python",
   "version": "3.7.8 (tags/v3.7.8:4b47a5b6ba, Jun 28 2020, 08:53:46) [MSC v.1916 64 bit (AMD64)]"
  },
  "orig_nbformat": 4,
  "vscode": {
   "interpreter": {
    "hash": "5bda9d347270cbd3e8dcb0ad2ef5ce4b2cb5366099261e36b1af86fe5a9d2271"
   }
  }
 },
 "nbformat": 4,
 "nbformat_minor": 2
}
