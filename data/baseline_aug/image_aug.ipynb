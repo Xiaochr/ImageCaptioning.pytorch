{
 "cells": [
  {
   "cell_type": "code",
   "execution_count": null,
   "metadata": {},
   "outputs": [],
   "source": [
    "from torchvision import transforms\n",
    "from PIL import Image\n",
    "\n",
    "img_transform = transforms.Compose([\n",
    "    transforms.ToTensor(), \n",
    "    transforms.ToPILImage(), \n",
    "    transforms.RandomHorizontalFlip(p=0.5),\n",
    "    transforms.RandomPerspective(distortion_scale=0.5, p=0.5)\n",
    "])\n",
    "\n",
    "img_path = \"/COCO2014/val2014/COCO_val2014_000000522418.jpg\"\n",
    "\n",
    "img = Image.open(img_path)\n",
    "aug_img = img_transform(img)\n",
    "aug_img.show()\n",
    "# aug_img.save(\"temp.jpg\")"
   ]
  },
  {
   "cell_type": "code",
   "execution_count": null,
   "metadata": {},
   "outputs": [],
   "source": []
  }
 ],
 "metadata": {
  "language_info": {
   "name": "python"
  },
  "orig_nbformat": 4
 },
 "nbformat": 4,
 "nbformat_minor": 2
}
